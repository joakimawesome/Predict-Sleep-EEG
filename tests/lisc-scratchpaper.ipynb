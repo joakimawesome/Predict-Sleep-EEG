{
  "cells": [
    {
      "cell_type": "code",
      "execution_count": 3,
      "metadata": {},
      "outputs": [],
      "source": [
        "# adding paths to importing things from \"data\" and \"functions and methods\" directories.\n",
        "import os\n",
        "import sys\n",
        "sys.path.append(os.path.dirname(os.getcwd()))"
      ]
    },
    {
      "cell_type": "code",
      "execution_count": 4,
      "metadata": {},
      "outputs": [],
      "source": [
        "from urllib.request import urlopen\n",
        "\n",
        "from lisc import Counts\n",
        "from lisc.objects.base import Base\n",
        "from lisc.utils.db import SCDB\n",
        "from lisc.utils.io import save_object\n",
        "from lisc.plts.counts import *\n",
        "\n",
        "import matplotlib.pyplot as plt\n",
        "import numpy as np\n",
        "import pandas as pd\n",
        "import seaborn as sns\n",
        "\n",
        "from lisc_db.terms.terminology import stages, eeg_features\n",
        "from utils.searchterms import format_terms"
      ]
    },
    {
      "cell_type": "markdown",
      "metadata": {},
      "source": [
        "## Resources\n",
        "- https://www.ncbi.nlm.nih.gov/books/NBK25499/#chapter4.ESearch\n",
        "- https://pubmed.ncbi.nlm.nih.gov/help/#search-tags\n",
        "\n",
        "ctrl+f: Search Field descriptions and tags"
      ]
    },
    {
      "cell_type": "code",
      "execution_count": 5,
      "metadata": {},
      "outputs": [],
      "source": [
        "# initialize lisc SCDB (database) object.\n",
        "db = SCDB('lisc_db')\n",
        "db.gen_paths()"
      ]
    },
    {
      "cell_type": "code",
      "execution_count": 11,
      "metadata": {},
      "outputs": [
        {
          "name": "stdout",
          "output_type": "stream",
          "text": [
            "The number of documents found for each search term is:\n",
            "  '\"stage 1 sleep\"'     -   4083\n",
            "  '\"stage one sleep\"'   -   1941\n",
            "  '\"light sleep\"'       -   7991\n"
          ]
        }
      ],
      "source": [
        "terms_a = [['\"stage 1 sleep\"'], ['\"stage one sleep\"'], ['\"light sleep\"']]\n",
        "counts = Counts()\n",
        "counts.add_terms(terms_a)\n",
        "counts.run_collection(verbose=False, db='pubmed', field='tiab', directory='db')\n",
        "counts.check_counts()"
      ]
    },
    {
      "cell_type": "code",
      "execution_count": 12,
      "metadata": {},
      "outputs": [],
      "source": [
        "### Save a lisc object into DB ###\n",
        "\n",
        "# absolute path to project directory '../GitHub/Predict-Sleep-EEG/'.\n",
        "main_dir = os.path.dirname(os.getcwd())\n",
        "\n",
        "# absolute path to Level 2: Data directory 'data/lisc_db/data/counts/'.\n",
        "db_dir = os.path.join(main_dir, r'data/' + db.get_folder_path('counts'))\n",
        "db_dir\n",
        "\n",
        "# save lisc data object in db_dir path.\n",
        "save_object(counts, 'counts.p', directory=db_dir)"
      ]
    },
    {
      "cell_type": "code",
      "execution_count": 14,
      "metadata": {},
      "outputs": [
        {
          "name": "stdout",
          "output_type": "stream",
          "text": [
            "The number of documents found for each search term is:\n",
            "  '\"stage 1 sleep\"'     -   4083\n",
            "  '\"stage one sleep\"'   -   1941\n",
            "  '\"light sleep\"'       -   7991\n"
          ]
        }
      ],
      "source": [
        "### Load a lisc object from DB ###\n",
        "\n",
        "# relative path to lisc object in database 'data/lisc_db/data/counts/counts.p'\n",
        "data_rpath = db.get_file_path('counts', 'counts.p')\n",
        "\n",
        "# absolute path to lisc object.\n",
        "data_abpath = os.path.join(main_dir, r'data/' + data_rpath)\n",
        "\n",
        "# load lisc Counts() object with pandas.\n",
        "pickle = pd.read_pickle(data_abpath)\n",
        "pickle.check_counts()"
      ]
    },
    {
      "cell_type": "code",
      "execution_count": 7,
      "metadata": {},
      "outputs": [
        {
          "data": {
            "text/plain": [
              "[['stage 1 sleep', 'stage one sleep', 'light sleep'],\n",
              " ['stage 2 sleep', 'stage two sleep'],\n",
              " ['stage 3 sleep', 'stage three sleep'],\n",
              " ['stage 4 sleep', 'stage four sleep'],\n",
              " ['rem', 'rapid eye movement', 'paradoxical sleep']]"
            ]
          },
          "execution_count": 7,
          "metadata": {},
          "output_type": "execute_result"
        }
      ],
      "source": [
        "# List of multiple terms, each with synonyms\n",
        "stages"
      ]
    },
    {
      "cell_type": "code",
      "execution_count": 11,
      "metadata": {},
      "outputs": [],
      "source": [
        "base = Base()\n",
        "base.add_terms(stages)\n",
        "\n",
        "exclusions = [[], [], [], [], ['paradox']]\n",
        "base.add_terms(exclusions, 'exclusions')"
      ]
    }
  ],
  "metadata": {
    "kernelspec": {
      "display_name": "Python 3",
      "language": "python",
      "name": "python3"
    },
    "language_info": {
      "codemirror_mode": {
        "name": "ipython",
        "version": 3
      },
      "file_extension": ".py",
      "mimetype": "text/x-python",
      "name": "python",
      "nbconvert_exporter": "python",
      "pygments_lexer": "ipython3",
      "version": "3.10.2"
    }
  },
  "nbformat": 4,
  "nbformat_minor": 0
}
