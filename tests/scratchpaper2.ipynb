{
  "cells": [
    {
      "cell_type": "code",
      "execution_count": 1,
      "metadata": {},
      "outputs": [],
      "source": [
        "import os\n",
        "import sys\n",
        "\n",
        "from urllib.request import urlopen\n",
        "\n",
        "from lisc import Counts\n",
        "from lisc.utils.db import SCDB\n",
        "from lisc.plts.counts import *\n",
        "\n",
        "import matplotlib.pyplot as plt\n",
        "import numpy as np "
      ]
    },
    {
      "cell_type": "code",
      "execution_count": 3,
      "metadata": {},
      "outputs": [
        {
          "data": {
            "text/plain": [
              "[['non-rem',\n",
              "  'nrem',\n",
              "  'non rapid-eye-movement',\n",
              "  'non-rapid-eye-movement',\n",
              "  'non rapid eye movement'],\n",
              " ['rem', 'rapid eye movement', 'rapid-eye-movement', 'paradoxical sleep'],\n",
              " ['stage 1', 'stage one', 'light sleep'],\n",
              " ['stage 2', 'stage two'],\n",
              " ['stage 3', 'stage three'],\n",
              " ['stage 4', 'stage four']]"
            ]
          },
          "execution_count": 3,
          "metadata": {},
          "output_type": "execute_result"
        }
      ],
      "source": [
        "# importing sleepeeg_terms.py variables from \"../data/\" directory.\n",
        "sys.path.append(os.path.dirname(os.getcwd()) + r\"\\data\")\n",
        "from sleepeeg_terms import stages, eeg_terminology, terminology\n",
        "stages"
      ]
    },
    {
      "cell_type": "markdown",
      "metadata": {},
      "source": [
        "- https://www.ncbi.nlm.nih.gov/books/NBK25499/#chapter4.ESearch\n",
        "- https://pubmed.ncbi.nlm.nih.gov/help/#search-tags\n",
        "\n",
        "ctrl+f: Search Field descriptions and tags"
      ]
    },
    {
      "cell_type": "code",
      "execution_count": 4,
      "metadata": {},
      "outputs": [],
      "source": [
        "u_eutils = 'https://eutils.ncbi.nlm.nih.gov/entrez/eutils/esearch.fcgi'\n",
        "u_db = 'db=pubmed'\n",
        "u_rettype = 'rettype=count'\n",
        "u_field = 'field=title'\n",
        "u_term = 'term='\n",
        "url_searchterms = '\"sleep\"'\n",
        "url_searchterms = url_searchterms.replace(' ', '+')\n",
        "u_term = u_term + url_searchterms\n",
        "\n",
        "url = u_eutils + '?' + u_db + '&' + u_rettype + '&' + u_field + '&' + u_term"
      ]
    },
    {
      "cell_type": "code",
      "execution_count": 5,
      "metadata": {},
      "outputs": [
        {
          "data": {
            "text/plain": [
              "b'<?xml version=\"1.0\" encoding=\"UTF-8\" ?>\\n<!DOCTYPE eSearchResult PUBLIC \"-//NLM//DTD esearch 20060628//EN\" \"https://eutils.ncbi.nlm.nih.gov/eutils/dtd/20060628/esearch.dtd\">\\n<eSearchResult>\\n\\t<Count>101672</Count>\\n</eSearchResult>\\n'"
            ]
          },
          "execution_count": 5,
          "metadata": {},
          "output_type": "execute_result"
        }
      ],
      "source": [
        "with urlopen(url) as response:\n",
        "    xml = response.read()\n",
        "xml"
      ]
    },
    {
      "cell_type": "code",
      "execution_count": null,
      "metadata": {},
      "outputs": [],
      "source": [
        "correlation = counts.counts\n",
        "\n",
        "fig, ax = plt.subplots()\n",
        "fig = plt.gcf()\n",
        "fig.set_size_inches(24, 24)\n",
        "im = ax.imshow(correlation)\n",
        "\n",
        "ax.set_xticks(np.arange(len(terms)))\n",
        "ax.set_xticklabels(terms)\n",
        "ax.set_yticks(np.arange(len(terms)))\n",
        "ax.set_yticklabels(terms)\n",
        "\n",
        "plt.setp(ax.get_xticklabels(), rotation=45, ha=\"right\",\n",
        "         rotation_mode=\"anchor\")\n",
        "\n",
        "for i in range(len(terms)):\n",
        "    for j in range(len(terms)):\n",
        "        text = ax.text(j, i, correlation[i][j],\n",
        "                       ha=\"center\", va=\"center\", color=\"w\")\n",
        "\n",
        "ax.set_title(\"Term co-occurrances\")\n",
        "plt.show()"
      ]
    }
  ],
  "metadata": {
    "kernelspec": {
      "display_name": "Python 3",
      "language": "python",
      "name": "python3"
    },
    "language_info": {
      "codemirror_mode": {
        "name": "ipython",
        "version": 3
      },
      "file_extension": ".py",
      "mimetype": "text/x-python",
      "name": "python",
      "nbconvert_exporter": "python",
      "pygments_lexer": "ipython3",
      "version": "3.10.2"
    }
  },
  "nbformat": 4,
  "nbformat_minor": 0
}
